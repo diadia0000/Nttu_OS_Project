{
 "cells": [
  {
   "cell_type": "code",
   "id": "initial_id",
   "metadata": {
    "collapsed": true,
    "ExecuteTime": {
     "end_time": "2025-10-20T12:17:49.215369Z",
     "start_time": "2025-10-20T12:17:49.203798Z"
    }
   },
   "source": "from matplotlib import *",
   "outputs": [],
   "execution_count": 2
  },
  {
   "metadata": {},
   "cell_type": "markdown",
   "source": "# Round Robin Scheduling Algorithm",
   "id": "ef9faf68602d2159"
  },
  {
   "metadata": {
    "ExecuteTime": {
     "end_time": "2025-10-20T12:17:49.340705Z",
     "start_time": "2025-10-20T12:17:49.337115Z"
    }
   },
   "cell_type": "code",
   "source": "",
   "id": "5141493e79a1ff38",
   "outputs": [],
   "execution_count": null
  },
  {
   "metadata": {},
   "cell_type": "markdown",
   "source": "# Multilevel Feedback Queue Scheduling",
   "id": "32d87f9295388de8"
  },
  {
   "metadata": {
    "ExecuteTime": {
     "end_time": "2025-10-20T12:17:49.402710Z",
     "start_time": "2025-10-20T12:17:49.395774Z"
    }
   },
   "cell_type": "code",
   "source": "",
   "id": "4c7a895a18b22f57",
   "outputs": [],
   "execution_count": null
  },
  {
   "metadata": {},
   "cell_type": "markdown",
   "source": "",
   "id": "4a7454e3eaddf69d"
  }
 ],
 "metadata": {
  "kernelspec": {
   "display_name": "Python 3",
   "language": "python",
   "name": "python3"
  },
  "language_info": {
   "codemirror_mode": {
    "name": "ipython",
    "version": 2
   },
   "file_extension": ".py",
   "mimetype": "text/x-python",
   "name": "python",
   "nbconvert_exporter": "python",
   "pygments_lexer": "ipython2",
   "version": "2.7.6"
  }
 },
 "nbformat": 4,
 "nbformat_minor": 5
}
